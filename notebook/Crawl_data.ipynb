{
 "cells": [
  {
   "cell_type": "code",
   "execution_count": 24,
   "source": [
    "import requests\r\n",
    "import pandas as pd\r\n",
    "from bs4 import BeautifulSoup\r\n",
    "import json"
   ],
   "outputs": [],
   "metadata": {}
  },
  {
   "cell_type": "code",
   "execution_count": null,
   "source": [
    "cookies = {\r\n",
    "    \"user\": \"en\"\r\n",
    "    }\r\n",
    "req_headers = {\r\n",
    "        \"user-agent\": \"Mozilla/5.0 (Macintosh; Intel Mac OS X 10_15_6) AppleWebKit/537.36 (KHTML, like Gecko) Chrome/86.0.4240.198 Safari/537.36\",\r\n",
    "        \"accept\": \"text/html,application/xhtml+xml,application/xml;q=0.9,image/avif,image/webp,image/apng,*/*;q=0.8,application/signed-exchange;v=b3;q=0.9\",\r\n",
    "        \"x-requested-with\": \"XMLHttpRequest\",\r\n",
    "        \"Cache-Control\": \"no-cache\",\r\n",
    "        \"Pragma\": \"no-cache\"\r\n",
    "    }\r\n",
    "proxies = {\"https\": \"socks5://72.223.168.67:4145\"}"
   ],
   "outputs": [],
   "metadata": {}
  },
  {
   "cell_type": "code",
   "execution_count": 70,
   "source": [
    "def crawl_product_id():\r\n",
    "    product_list = []\r\n",
    "    i = 1\r\n",
    "    while (True):\r\n",
    "        try:\r\n",
    "            # print(\"Crawl page: \", i)\r\n",
    "            url_m = 'https://tiki.vn/api/personalish/v1/blocks/listings?limit=48&aggregations=2&trackity_id=8a6c7f5d-a457-a406-b969-116022428191&category=915&page={}&urlKey=thoi-trang-nam'.format(i)\r\n",
    "            url_f = 'https://tiki.vn/api/personalish/v1/blocks/listings?limit=48&aggregations=2&trackity_id=8a6c7f5d-a457-a406-b969-116022428191&category=931&page={}&urlKey=thoi-trang-nu'.format(i)\r\n",
    "            response_m = requests.get(url_m, headers=req_headers, cookies=cookies, verify=False)\r\n",
    "            response_f = requests.get(url_f, headers=req_headers, cookies=cookies, verify=False)\r\n",
    "\r\n",
    "            data_m = json.loads(response_m.text)['data']\r\n",
    "            data_f = json.loads(response_f.text)['data']\r\n",
    "\r\n",
    "            for m, f in zip(data_m, data_f):\r\n",
    "                product_list.append(m['id'])\r\n",
    "                product_list.append(f['id'])\r\n",
    "            i += 1\r\n",
    "            if i==101:\r\n",
    "                break\r\n",
    "        except:\r\n",
    "            print('ERORRRRRRRRRRRRRRRRRRRRR')\r\n",
    "            break\r\n",
    "\r\n",
    "    return product_list, i\r\n"
   ],
   "outputs": [],
   "metadata": {}
  },
  {
   "cell_type": "code",
   "execution_count": null,
   "source": [
    "product_id_list, _ = crawl_product_id()"
   ],
   "outputs": [],
   "metadata": {}
  },
  {
   "cell_type": "code",
   "execution_count": null,
   "source": [
    "revs_dict = dict(content = [], star = [])\r\n",
    "for id in product_id_list:\r\n",
    "    response_data = requests.request(\"GET\" ,'https://tiki.vn/api/v2/reviews?include=comments&product_id={}&limit=100'.format(id), headers=req_headers, verify=False)\r\n",
    "    revs = response_data.json()['data']\r\n",
    "    revs = sorted(revs, key=lambda d:d['rating'])\r\n",
    "    for r in revs:\r\n",
    "        if len(r['content'])>50:\r\n",
    "            revs_dict['content'].append(r['content'])\r\n",
    "            revs_dict['star'].append(r['rating'])"
   ],
   "outputs": [],
   "metadata": {}
  },
  {
   "cell_type": "code",
   "execution_count": 75,
   "source": [
    "df = pd.DataFrame(revs_dict)"
   ],
   "outputs": [],
   "metadata": {}
  },
  {
   "cell_type": "code",
   "execution_count": 79,
   "source": [
    "df.to_csv('datafull.csv', index=False)"
   ],
   "outputs": [],
   "metadata": {}
  },
  {
   "cell_type": "code",
   "execution_count": 91,
   "source": [
    "one = df[df.star==1]\r\n",
    "two = df[df.star==2]\r\n",
    "three = df[df.star==3]\r\n",
    "four = df[df.star==4]\r\n",
    "five = df[df.star==5]"
   ],
   "outputs": [],
   "metadata": {}
  },
  {
   "cell_type": "code",
   "execution_count": 94,
   "source": [
    "one = one.sample(n=1334)\r\n",
    "two = two.sample(n=666)\r\n",
    "three = three.sample(n=667)\r\n",
    "four = four.sample(n=666)\r\n",
    "five = five.sample(n=667)"
   ],
   "outputs": [],
   "metadata": {}
  },
  {
   "cell_type": "code",
   "execution_count": 95,
   "source": [
    "sam = pd.concat([one, two])\r\n",
    "sam = pd.concat([sam, three])\r\n",
    "sam = pd.concat([sam, four])\r\n",
    "sam = pd.concat([sam, five])"
   ],
   "outputs": [],
   "metadata": {}
  },
  {
   "cell_type": "code",
   "execution_count": 97,
   "source": [
    "def label(x):\r\n",
    "    if x==1: return 'Tiêu cực'\r\n",
    "    elif x in [2, 3]: return 'Trung tính'\r\n",
    "    elif x in [4, 5]: return 'Tích cực'"
   ],
   "outputs": [],
   "metadata": {}
  },
  {
   "cell_type": "code",
   "execution_count": 99,
   "source": [
    "sam['label'] = sam['star'].apply(lambda x: label(x))"
   ],
   "outputs": [],
   "metadata": {}
  },
  {
   "cell_type": "code",
   "execution_count": 103,
   "source": [
    "sam.groupby('star').count()"
   ],
   "outputs": [
    {
     "output_type": "execute_result",
     "data": {
      "text/html": [
       "<div>\n",
       "<style scoped>\n",
       "    .dataframe tbody tr th:only-of-type {\n",
       "        vertical-align: middle;\n",
       "    }\n",
       "\n",
       "    .dataframe tbody tr th {\n",
       "        vertical-align: top;\n",
       "    }\n",
       "\n",
       "    .dataframe thead th {\n",
       "        text-align: right;\n",
       "    }\n",
       "</style>\n",
       "<table border=\"1\" class=\"dataframe\">\n",
       "  <thead>\n",
       "    <tr style=\"text-align: right;\">\n",
       "      <th></th>\n",
       "      <th>content</th>\n",
       "      <th>label</th>\n",
       "    </tr>\n",
       "    <tr>\n",
       "      <th>star</th>\n",
       "      <th></th>\n",
       "      <th></th>\n",
       "    </tr>\n",
       "  </thead>\n",
       "  <tbody>\n",
       "    <tr>\n",
       "      <th>1</th>\n",
       "      <td>1334</td>\n",
       "      <td>1334</td>\n",
       "    </tr>\n",
       "    <tr>\n",
       "      <th>2</th>\n",
       "      <td>666</td>\n",
       "      <td>666</td>\n",
       "    </tr>\n",
       "    <tr>\n",
       "      <th>3</th>\n",
       "      <td>667</td>\n",
       "      <td>667</td>\n",
       "    </tr>\n",
       "    <tr>\n",
       "      <th>4</th>\n",
       "      <td>666</td>\n",
       "      <td>666</td>\n",
       "    </tr>\n",
       "    <tr>\n",
       "      <th>5</th>\n",
       "      <td>667</td>\n",
       "      <td>667</td>\n",
       "    </tr>\n",
       "  </tbody>\n",
       "</table>\n",
       "</div>"
      ],
      "text/plain": [
       "      content  label\n",
       "star                \n",
       "1        1334   1334\n",
       "2         666    666\n",
       "3         667    667\n",
       "4         666    666\n",
       "5         667    667"
      ]
     },
     "metadata": {},
     "execution_count": 103
    }
   ],
   "metadata": {}
  },
  {
   "cell_type": "code",
   "execution_count": 104,
   "source": [
    "sam.head()"
   ],
   "outputs": [
    {
     "output_type": "execute_result",
     "data": {
      "text/html": [
       "<div>\n",
       "<style scoped>\n",
       "    .dataframe tbody tr th:only-of-type {\n",
       "        vertical-align: middle;\n",
       "    }\n",
       "\n",
       "    .dataframe tbody tr th {\n",
       "        vertical-align: top;\n",
       "    }\n",
       "\n",
       "    .dataframe thead th {\n",
       "        text-align: right;\n",
       "    }\n",
       "</style>\n",
       "<table border=\"1\" class=\"dataframe\">\n",
       "  <thead>\n",
       "    <tr style=\"text-align: right;\">\n",
       "      <th></th>\n",
       "      <th>content</th>\n",
       "      <th>star</th>\n",
       "      <th>label</th>\n",
       "    </tr>\n",
       "  </thead>\n",
       "  <tbody>\n",
       "    <tr>\n",
       "      <th>35454</th>\n",
       "      <td>combo 3 cái gĩao có 1 cái,  thành ra đặt 6 cái...</td>\n",
       "      <td>1</td>\n",
       "      <td>Tiêu cực</td>\n",
       "    </tr>\n",
       "    <tr>\n",
       "      <th>11006</th>\n",
       "      <td>mình mua áo có cổ màu trắng lại ship tới cho m...</td>\n",
       "      <td>1</td>\n",
       "      <td>Tiêu cực</td>\n",
       "    </tr>\n",
       "    <tr>\n",
       "      <th>47850</th>\n",
       "      <td>Giao sai hàng. Tôi muốn trả hàng. Đặt be đậm g...</td>\n",
       "      <td>1</td>\n",
       "      <td>Tiêu cực</td>\n",
       "    </tr>\n",
       "    <tr>\n",
       "      <th>23763</th>\n",
       "      <td>Sản xuất vn nhưng thấy in chữ trung quốc nên k...</td>\n",
       "      <td>1</td>\n",
       "      <td>Tiêu cực</td>\n",
       "    </tr>\n",
       "    <tr>\n",
       "      <th>12024</th>\n",
       "      <td>Mình đặt áo sơ mi trắng dài tay mà shop giao c...</td>\n",
       "      <td>1</td>\n",
       "      <td>Tiêu cực</td>\n",
       "    </tr>\n",
       "  </tbody>\n",
       "</table>\n",
       "</div>"
      ],
      "text/plain": [
       "                                                 content  star     label\n",
       "35454  combo 3 cái gĩao có 1 cái,  thành ra đặt 6 cái...     1  Tiêu cực\n",
       "11006  mình mua áo có cổ màu trắng lại ship tới cho m...     1  Tiêu cực\n",
       "47850  Giao sai hàng. Tôi muốn trả hàng. Đặt be đậm g...     1  Tiêu cực\n",
       "23763  Sản xuất vn nhưng thấy in chữ trung quốc nên k...     1  Tiêu cực\n",
       "12024  Mình đặt áo sơ mi trắng dài tay mà shop giao c...     1  Tiêu cực"
      ]
     },
     "metadata": {},
     "execution_count": 104
    }
   ],
   "metadata": {}
  }
 ],
 "metadata": {
  "interpreter": {
   "hash": "61c19e51bf2b2dd0245f9e2e56c67990674a9b7c93c7a2bca974a2759e026ef6"
  },
  "kernelspec": {
   "display_name": "Python 3.9.7 64-bit ('ML': conda)",
   "language": "python",
   "name": "python3"
  },
  "language_info": {
   "codemirror_mode": {
    "name": "ipython",
    "version": 3
   },
   "file_extension": ".py",
   "mimetype": "text/x-python",
   "name": "python",
   "nbconvert_exporter": "python",
   "pygments_lexer": "ipython3",
   "version": "3.9.7"
  },
  "orig_nbformat": 4
 },
 "nbformat": 4,
 "nbformat_minor": 2
}